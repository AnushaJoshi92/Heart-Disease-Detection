{
 "cells": [
  {
   "cell_type": "code",
   "execution_count": null,
   "metadata": {},
   "outputs": [],
   "source": [
    "import pandas as pd\n",
    "import numpy as np\n",
    "import matplotlib.pyplot as plt\n",
    "from sklearn.tree import DecisionTreeClassifier\n",
    "from sklearn.tree import plot_tree\n",
    "from sklearn.model_selection import train_test_split\n",
    "from sklearn.model_selection import cross_val_score\n",
    "from sklearn.metrics import plot_confusion_matrix"
   ]
  },
  {
   "cell_type": "code",
   "execution_count": null,
   "metadata": {},
   "outputs": [],
   "source": [
    "df= pd.read_csv(\"C:/Users/HP/Desktop/Anusha- Python Data sets/processed.cleveland.data\")\n",
    "df.head()"
   ]
  },
  {
   "cell_type": "code",
   "execution_count": null,
   "metadata": {},
   "outputs": [],
   "source": [
    "df.columns=['age','sex','cp','restbp','chol','fbs','restecg','thalach','exang','oldpeak','slope','ca','thal','hd']\n",
    "df.head()"
   ]
  },
  {
   "cell_type": "code",
   "execution_count": null,
   "metadata": {},
   "outputs": [],
   "source": [
    "#check for missing data\n",
    "df['ca'].unique()"
   ]
  },
  {
   "cell_type": "code",
   "execution_count": null,
   "metadata": {},
   "outputs": [],
   "source": [
    "df['thal'].unique()"
   ]
  },
  {
   "cell_type": "code",
   "execution_count": null,
   "metadata": {},
   "outputs": [],
   "source": [
    "#no. of missing values\n",
    "len(df.loc[(df['ca'] == '?')|(df['thal'] == '?')])"
   ]
  },
  {
   "cell_type": "code",
   "execution_count": null,
   "metadata": {},
   "outputs": [],
   "source": [
    "df.loc[(df['ca'] == '?')|(df['thal'] == '?')]"
   ]
  },
  {
   "cell_type": "code",
   "execution_count": null,
   "metadata": {},
   "outputs": [],
   "source": [
    "len(df)"
   ]
  },
  {
   "cell_type": "code",
   "execution_count": null,
   "metadata": {},
   "outputs": [],
   "source": [
    "#Delete rows with missing values\n",
    "df_no_missing= df.loc[(df['ca'] != '?')&(df['thal'] != '?')]\n",
    "len(df_no_missing)"
   ]
  },
  {
   "cell_type": "code",
   "execution_count": null,
   "metadata": {},
   "outputs": [],
   "source": [
    "df_no_missing['ca'].unique()"
   ]
  },
  {
   "cell_type": "code",
   "execution_count": null,
   "metadata": {},
   "outputs": [],
   "source": [
    "df_no_missing['thal'].unique()"
   ]
  },
  {
   "cell_type": "code",
   "execution_count": null,
   "metadata": {},
   "outputs": [],
   "source": [
    "X= df_no_missing.drop('hd',axis=1).copy() #Alternative: X= df_no_missing.iloc[:,:-1]\n",
    "y= df_no_missing['hd'].copy()\n",
    "X,y"
   ]
  },
  {
   "cell_type": "code",
   "execution_count": null,
   "metadata": {},
   "outputs": [],
   "source": [
    "#variables sex,cp,fbs,restecg,exang,slope,thal should be categorical\n",
    "X.dtypes"
   ]
  },
  {
   "cell_type": "code",
   "execution_count": null,
   "metadata": {},
   "outputs": [],
   "source": [
    "X_encoded= pd.get_dummies(X, columns=['sex','cp','fbs','restecg','exang','slope','thal'])\n",
    "X_encoded.head()"
   ]
  },
  {
   "cell_type": "code",
   "execution_count": null,
   "metadata": {},
   "outputs": [],
   "source": [
    "y.unique()"
   ]
  },
  {
   "cell_type": "code",
   "execution_count": null,
   "metadata": {},
   "outputs": [],
   "source": [
    "y_not_zero_index= y>0\n",
    "y[y_not_zero_index]=1\n",
    "y.unique()"
   ]
  },
  {
   "cell_type": "code",
   "execution_count": null,
   "metadata": {},
   "outputs": [],
   "source": [
    "X_encoded_train, X_encoded_test, y_train, y_test= train_test_split(X_encoded,y, random_state=42)\n",
    "clf_dt= DecisionTreeClassifier(random_state=42)\n",
    "clf_dt= clf_dt.fit(X_encoded_train,y_train)"
   ]
  },
  {
   "cell_type": "code",
   "execution_count": null,
   "metadata": {},
   "outputs": [],
   "source": [
    "plt.figure(figsize=(15, 7.5))\n",
    "plot_tree(clf_dt,filled=True,rounded=True,class_names= [\"No HD\",\"Yes HD\"], feature_names= X_encoded.columns);"
   ]
  },
  {
   "cell_type": "code",
   "execution_count": null,
   "metadata": {},
   "outputs": [],
   "source": [
    "#Accuracy= 0.7733\n",
    "plot_confusion_matrix(clf_dt,X_encoded_test,y_test,display_labels=[\"Does not have HD\", \"Has HD\"])"
   ]
  },
  {
   "cell_type": "code",
   "execution_count": null,
   "metadata": {},
   "outputs": [],
   "source": [
    "path= clf_dt.cost_complexity_pruning_path(X_encoded_train, y_train) #Determine values for alpha\n",
    "ccp_alphas= path.ccp_alphas #extract different values for alpha\n",
    "ccp_alphas= ccp_alphas[:-1] #exclude the max. value for alpha\n",
    "ccp_alphas"
   ]
  },
  {
   "cell_type": "code",
   "execution_count": null,
   "metadata": {},
   "outputs": [],
   "source": [
    "clf_dts=[]\n",
    "for ccp_alpha in ccp_alphas:\n",
    "    clf_dt= DecisionTreeClassifier(random_state=0,ccp_alpha=ccp_alpha)\n",
    "    clf_dt.fit(X_encoded_train,y_train)\n",
    "    clf_dts.append(clf_dt)"
   ]
  },
  {
   "cell_type": "code",
   "execution_count": null,
   "metadata": {},
   "outputs": [],
   "source": [
    "train_scores= [clf_dt.score(X_encoded_train,y_train) for clf_dt in clf_dts]\n",
    "test_scores= [clf_dt.score(X_encoded_test,y_test) for clf_dt in clf_dts]\n",
    "\n",
    "fig,ax= plt.subplots()\n",
    "ax.set_xlabel(\"alpha\")\n",
    "ax.set_xlabel(\"accuracy\")\n",
    "ax.set_title(\"Accuracy vs Alpha for training & test data sets\")\n",
    "ax.plot(ccp_alphas, train_scores, marker='o',label=\"train\",drawstyle=\"steps-post\")\n",
    "ax.plot(ccp_alphas, test_scores, marker='o',label=\"test\",drawstyle=\"steps-post\")\n",
    "ax.legend()\n",
    "plt.show()"
   ]
  },
  {
   "cell_type": "code",
   "execution_count": null,
   "metadata": {},
   "outputs": [],
   "source": [
    "#Perform Cross validation\n",
    "alpha_loop_values= []\n",
    "for ccp_alpha in ccp_alphas:\n",
    "    clf_dt= DecisionTreeClassifier(random_state=0, ccp_alpha= ccp_alpha)\n",
    "    scores= cross_val_score(clf_dt,X_encoded_train,y_train,cv=5)\n",
    "    alpha_loop_values.append([ccp_alpha,np.mean(scores),np.std(scores)])\n",
    "\n",
    "alpha_results= pd.DataFrame(alpha_loop_values,columns=['alpha','mean_accuracy','std'])\n",
    "alpha_results.plot(x='alpha',y='mean_accuracy',yerr='std',marker='o',linestyle='--')"
   ]
  },
  {
   "cell_type": "code",
   "execution_count": null,
   "metadata": {},
   "outputs": [],
   "source": [
    "ideal_ccp_alpha=alpha_results[(alpha_results['alpha']>0.014) & (alpha_results['alpha']<0.015)]['alpha']\n",
    "ideal_ccp_alpha"
   ]
  },
  {
   "cell_type": "code",
   "execution_count": null,
   "metadata": {},
   "outputs": [],
   "source": [
    "#Convert to float\n",
    "ideal_ccp_alpha= float(ideal_ccp_alpha)\n",
    "ideal_ccp_alpha"
   ]
  },
  {
   "cell_type": "code",
   "execution_count": null,
   "metadata": {},
   "outputs": [],
   "source": [
    "clf_dt_pruned= DecisionTreeClassifier(random_state=42,ccp_alpha=ideal_ccp_alpha)\n",
    "clf_dt_pruned= clf_dt_pruned.fit(X_encoded_train,y_train)"
   ]
  },
  {
   "cell_type": "code",
   "execution_count": null,
   "metadata": {},
   "outputs": [],
   "source": [
    "#accuracy= 0.826\n",
    "plot_confusion_matrix(clf_dt_pruned,X_encoded_test,y_test,display_labels=[\"Does not have HD\",\"Has HD\"])"
   ]
  },
  {
   "cell_type": "code",
   "execution_count": null,
   "metadata": {},
   "outputs": [],
   "source": [
    "plt.figure(figsize=(15, 7.5))\n",
    "plot_tree(clf_dt_pruned,filled=True,rounded=True,class_names= [\"No HD\",\"Yes HD\"], feature_names= X_encoded.columns);"
   ]
  }
 ],
 "metadata": {
  "kernelspec": {
   "display_name": "Python 3",
   "language": "python",
   "name": "python3"
  },
  "language_info": {
   "codemirror_mode": {
    "name": "ipython",
    "version": 3
   },
   "file_extension": ".py",
   "mimetype": "text/x-python",
   "name": "python",
   "nbconvert_exporter": "python",
   "pygments_lexer": "ipython3",
   "version": "3.8.5"
  }
 },
 "nbformat": 4,
 "nbformat_minor": 4
}
